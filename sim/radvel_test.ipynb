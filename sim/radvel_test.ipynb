{
 "cells": [
  {
   "cell_type": "code",
   "execution_count": 1,
   "metadata": {},
   "outputs": [],
   "source": [
    "import os\n",
    "\n",
    "import matplotlib\n",
    "import numpy as np\n",
    "import pylab as pl\n",
    "import pandas as pd\n",
    "from scipy import optimize"
   ]
  },
  {
   "cell_type": "code",
   "execution_count": null,
   "metadata": {},
   "outputs": [],
   "source": [
    "!pip install celerite"
   ]
  },
  {
   "cell_type": "code",
   "execution_count": 2,
   "metadata": {},
   "outputs": [
    {
     "name": "stderr",
     "output_type": "stream",
     "text": [
      "c:\\users\\rohan\\appdata\\local\\programs\\python\\python36\\lib\\site-packages\\radvel\\gp.py:33: ImportWarning: celerite not installed. GP kernals using celerite will not work. Try installing celerite using 'pip install celerite'\n",
      "  Try installing celerite using 'pip install celerite'\", ImportWarning)\n"
     ]
    }
   ],
   "source": [
    "import corner\n",
    "import radvel\n",
    "\n",
    "from radvel.likelihood import RVLikelihood\n",
    "from radvel.plot import orbit_plots, mcmc_plots"
   ]
  },
  {
   "cell_type": "code",
   "execution_count": null,
   "metadata": {},
   "outputs": [],
   "source": [
    "df = pd.read_csv(os.path.join(os.getcwd(), \"sim1.csv\"))\n",
    "\n",
    "time_base = np.mean([np.min(df[\"JD\"]), np.max(df[\"JD\"])])\n",
    "\n",
    "time_base"
   ]
  },
  {
   "cell_type": "code",
   "execution_count": 5,
   "metadata": {},
   "outputs": [],
   "source": [
    "def initialize_model():\n",
    "    time_base = 249.5\n",
    "    params = radvel.Parameters(2 ,basis='per tp e w k') # number of planets = 2\n",
    "    params['per1'] = radvel.Parameter(value=452.8)\n",
    "    params['tp1'] = radvel.Parameter(value=2451917)\n",
    "    params['e1'] = radvel.Parameter(value=0.09)\n",
    "    params['w1'] = radvel.Parameter(value=300)\n",
    "    params['k1'] = radvel.Parameter(value=49.012702471070284)\n",
    "    params['per2'] = radvel.Parameter(value=883)\n",
    "    params['tp2'] = radvel.Parameter(value=2452441)\n",
    "    params['e2'] = radvel.Parameter(value=0.29)\n",
    "    params['w2'] = radvel.Parameter(value=300)\n",
    "    params['k2'] = radvel.Parameter(value=17.6343)\n",
    "    mod = radvel.RVModel(params, time_base=time_base)\n",
    "    mod.params['dvdt'] = radvel.Parameter(value=-0.02)\n",
    "    mod.params['curv'] = radvel.Parameter(value=0.01)\n",
    "    return mod"
   ]
  },
  {
   "cell_type": "code",
   "execution_count": 25,
   "metadata": {},
   "outputs": [],
   "source": [
    "def plot_results(like):\n",
    "    fig = pl.figure(figsize=(12,4))\n",
    "    fig = pl.gcf()\n",
    "    fig.set_tight_layout(True)\n",
    "    pl.errorbar(\n",
    "        like.x, like.model(t)+like.residuals(), \n",
    "        yerr=like.yerr, fmt='o'\n",
    "        )\n",
    "    pl.plot(ti, like.model(ti))\n",
    "    pl.xlabel('Time')\n",
    "    pl.ylabel('RV')\n",
    "    pl.draw()"
   ]
  },
  {
   "cell_type": "code",
   "execution_count": 31,
   "metadata": {},
   "outputs": [],
   "source": [
    "path = os.path.join(os.getcwd(),'sim1.csv')\n",
    "rv = pd.read_csv(path).drop(columns=[\"Unnamed: 0\"])\n",
    "\n",
    "t = np.array(rv.JD)\n",
    "vel = np.array(rv.RV)\n",
    "errvel = np.array(rv.RV_ERROR)\n",
    "ti = np.linspace(rv.JD.iloc[0]-5,rv.JD.iloc[-1]+5,100)"
   ]
  },
  {
   "cell_type": "code",
   "execution_count": 32,
   "metadata": {},
   "outputs": [
    {
     "data": {
      "text/html": [
       "<div>\n",
       "<style scoped>\n",
       "    .dataframe tbody tr th:only-of-type {\n",
       "        vertical-align: middle;\n",
       "    }\n",
       "\n",
       "    .dataframe tbody tr th {\n",
       "        vertical-align: top;\n",
       "    }\n",
       "\n",
       "    .dataframe thead th {\n",
       "        text-align: right;\n",
       "    }\n",
       "</style>\n",
       "<table border=\"1\" class=\"dataframe\">\n",
       "  <thead>\n",
       "    <tr style=\"text-align: right;\">\n",
       "      <th></th>\n",
       "      <th>JD</th>\n",
       "      <th>RV</th>\n",
       "      <th>RV_ERROR</th>\n",
       "    </tr>\n",
       "  </thead>\n",
       "  <tbody>\n",
       "    <tr>\n",
       "      <th>0</th>\n",
       "      <td>0.0</td>\n",
       "      <td>9.629592</td>\n",
       "      <td>1</td>\n",
       "    </tr>\n",
       "    <tr>\n",
       "      <th>1</th>\n",
       "      <td>1.0</td>\n",
       "      <td>-16.884411</td>\n",
       "      <td>1</td>\n",
       "    </tr>\n",
       "    <tr>\n",
       "      <th>2</th>\n",
       "      <td>2.0</td>\n",
       "      <td>18.014635</td>\n",
       "      <td>1</td>\n",
       "    </tr>\n",
       "    <tr>\n",
       "      <th>3</th>\n",
       "      <td>3.0</td>\n",
       "      <td>-25.923554</td>\n",
       "      <td>1</td>\n",
       "    </tr>\n",
       "    <tr>\n",
       "      <th>4</th>\n",
       "      <td>4.0</td>\n",
       "      <td>13.855441</td>\n",
       "      <td>1</td>\n",
       "    </tr>\n",
       "  </tbody>\n",
       "</table>\n",
       "</div>"
      ],
      "text/plain": [
       "    JD         RV  RV_ERROR\n",
       "0  0.0   9.629592         1\n",
       "1  1.0 -16.884411         1\n",
       "2  2.0  18.014635         1\n",
       "3  3.0 -25.923554         1\n",
       "4  4.0  13.855441         1"
      ]
     },
     "execution_count": 32,
     "metadata": {},
     "output_type": "execute_result"
    }
   ],
   "source": [
    "rv.head()"
   ]
  },
  {
   "cell_type": "code",
   "execution_count": 40,
   "metadata": {},
   "outputs": [],
   "source": [
    "mod = initialize_model()\n",
    "like= RVLikelihood(mod, t, vel, errvel)\n",
    "like.params['gamma'] = radvel.Parameter(value=0.1, vary=False, linear=True)\n",
    "like.params['jit'] = radvel.Parameter(value=1.0)"
   ]
  },
  {
   "cell_type": "code",
   "execution_count": 42,
   "metadata": {},
   "outputs": [],
   "source": [
    "like.params['e1'].vary = False\n",
    "like.params['e2'].vary = False\n",
    "\n",
    "like.params['per1'].vary = False\n",
    "like.params['per2'].vary = False\n",
    "\n",
    "like.params['tp1'].vary = False\n",
    "like.params['tp2'].vary = False\n"
   ]
  },
  {
   "cell_type": "code",
   "execution_count": 43,
   "metadata": {},
   "outputs": [
    {
     "data": {
      "text/plain": [
       "<Figure size 432x288 with 0 Axes>"
      ]
     },
     "metadata": {},
     "output_type": "display_data"
    },
    {
     "data": {
      "image/png": "[encoded data removed]",
      "text/plain": [
       "<Figure size 864x288 with 1 Axes>"
      ]
     },
     "metadata": {
      "needs_background": "light"
     },
     "output_type": "display_data"
    }
   ],
   "source": [
    "pl.figure()\n",
    "plot_results(like)"
   ]
  },
  {
   "cell_type": "code",
   "execution_count": 44,
   "metadata": {},
   "outputs": [],
   "source": [
    "post = radvel.posterior.Posterior(like)\n",
    "post.priors += [radvel.prior.Gaussian( 'jit', np.log(3), 0.5)]\n",
    "post.priors += [radvel.prior.Gaussian( 'k1', 5, 10)]\n",
    "post.priors += [radvel.prior.Gaussian( 'k2', 5, 10)]\n",
    "post.priors += [radvel.prior.Gaussian( 'gamma', 0, 10)]"
   ]
  },
  {
   "cell_type": "code",
   "execution_count": 1,
   "metadata": {},
   "outputs": [
    {
     "ename": "NameError",
     "evalue": "name 'optimize' is not defined",
     "output_type": "error",
     "traceback": [
      "\u001b[1;31m---------------------------------------------------------------------------\u001b[0m",
      "\u001b[1;31mNameError\u001b[0m                                 Traceback (most recent call last)",
      "\u001b[1;32m<ipython-input-1-ad221d30a160>\u001b[0m in \u001b[0;36m<module>\u001b[1;34m\u001b[0m\n\u001b[1;32m----> 1\u001b[1;33m res  = optimize.minimize(\n\u001b[0m\u001b[0;32m      2\u001b[0m     \u001b[0mpost\u001b[0m\u001b[1;33m.\u001b[0m\u001b[0mneglogprob_array\u001b[0m\u001b[1;33m,\u001b[0m     \u001b[1;31m# objective function is negative log likelihood\u001b[0m\u001b[1;33m\u001b[0m\u001b[0m\n\u001b[0;32m      3\u001b[0m     \u001b[0mpost\u001b[0m\u001b[1;33m.\u001b[0m\u001b[0mget_vary_params\u001b[0m\u001b[1;33m(\u001b[0m\u001b[1;33m)\u001b[0m\u001b[1;33m,\u001b[0m    \u001b[1;31m# initial variable parameters\u001b[0m\u001b[1;33m\u001b[0m\u001b[0m\n\u001b[0;32m      4\u001b[0m     \u001b[0mmethod\u001b[0m\u001b[1;33m=\u001b[0m\u001b[1;34m'Nelder-Mead'\u001b[0m\u001b[1;33m,\u001b[0m           \u001b[1;31m# Nelder-Mead also works\u001b[0m\u001b[1;33m\u001b[0m\u001b[0m\n\u001b[0;32m      5\u001b[0m     )\n",
      "\u001b[1;31mNameError\u001b[0m: name 'optimize' is not defined"
     ]
    }
   ],
   "source": [
    "res  = optimize.minimize(\n",
    "    post.neglogprob_array,     # objective function is negative log likelihood\n",
    "    post.get_vary_params(),    # initial variable parameters\n",
    "    method='Nelder-Mead',           # Nelder-Mead also works\n",
    "    )\n",
    "\n",
    "plot_results(like)             # plot best fit model\n",
    "print(post)"
   ]
  },
  {
   "cell_type": "code",
   "execution_count": 46,
   "metadata": {},
   "outputs": [
    {
     "name": "stdout",
     "output_type": "stream",
     "text": [
      "Initial loglikelihood = -4980.823213\n",
      "Performing maximum a posteriori fit...\n",
      "Final loglikelihood = -17279.623485\n",
      "Best-fit parameters:\n",
      "parameter                     value      vary\n",
      "per1                          452.8      False\n",
      "tp1                     2.45167e+06      False\n",
      "e1                             0.09      False\n",
      "w1                          300.712       True\n",
      "k1                          -96.379       True\n",
      "per2                            883      False\n",
      "tp2                     2.45219e+06      False\n",
      "e2                             0.29      False\n",
      "w2                          305.129       True\n",
      "k2                          241.893       True\n",
      "dvdt                       0.130188       True\n",
      "curv                      0.0151864       True\n",
      "gamma                      -185.785      False\n",
      "jit                         60.0041       True\n",
      "\n",
      "Priors\n",
      "------\n",
      "Gaussian prior on jit, mu=1.0986122886681098, sigma=0.5\n",
      "Gaussian prior on k1, mu=5, sigma=10\n",
      "Gaussian prior on k2, mu=5, sigma=10\n",
      "Gaussian prior on gamma, mu=0, sigma=10\n",
      "\n"
     ]
    },
    {
     "data": {
      "text/plain": [
       "parameter                     value      vary\n",
       "per1                          452.8      False\n",
       "tp1                     2.45167e+06      False\n",
       "e1                             0.09      False\n",
       "w1                          300.712       True\n",
       "k1                          -96.379       True\n",
       "per2                            883      False\n",
       "tp2                     2.45219e+06      False\n",
       "e2                             0.29      False\n",
       "w2                          305.129       True\n",
       "k2                          241.893       True\n",
       "dvdt                       0.130188       True\n",
       "curv                      0.0151864       True\n",
       "gamma                      -185.785      False\n",
       "jit                         60.0041       True\n",
       "\n",
       "Priors\n",
       "------\n",
       "Gaussian prior on jit, mu=1.0986122886681098, sigma=0.5\n",
       "Gaussian prior on k1, mu=5, sigma=10\n",
       "Gaussian prior on k2, mu=5, sigma=10\n",
       "Gaussian prior on gamma, mu=0, sigma=10"
      ]
     },
     "execution_count": 46,
     "metadata": {},
     "output_type": "execute_result"
    }
   ],
   "source": [
    "radvel.fitting.maxlike_fitting(post, \"Nelder-Mead\")"
   ]
  },
  {
   "cell_type": "code",
   "execution_count": 52,
   "metadata": {},
   "outputs": [
    {
     "ename": "AttributeError",
     "evalue": "module 'radvel' has no attribute 'likelihood'",
     "output_type": "error",
     "traceback": [
      "\u001b[1;31m---------------------------------------------------------------------------\u001b[0m",
      "\u001b[1;31mAttributeError\u001b[0m                            Traceback (most recent call last)",
      "\u001b[1;32m<ipython-input-52-ec0e45e46ca1>\u001b[0m in \u001b[0;36m<module>\u001b[1;34m\u001b[0m\n\u001b[1;32m----> 1\u001b[1;33m \u001b[0md\u001b[0m \u001b[1;33m=\u001b[0m \u001b[0mradvel\u001b[0m\u001b[1;33m.\u001b[0m\u001b[0mmcmc\u001b[0m\u001b[1;33m(\u001b[0m\u001b[0mpost\u001b[0m\u001b[1;33m,\u001b[0m\u001b[0mnwalkers\u001b[0m\u001b[1;33m=\u001b[0m\u001b[1;36m20\u001b[0m\u001b[1;33m,\u001b[0m\u001b[0mnrun\u001b[0m\u001b[1;33m=\u001b[0m\u001b[1;36m400\u001b[0m\u001b[1;33m)\u001b[0m\u001b[1;33m\u001b[0m\u001b[0m\n\u001b[0m",
      "\u001b[1;32mc:\\users\\rohan\\appdata\\local\\programs\\python\\python36\\lib\\site-packages\\radvel\\mcmc.py\u001b[0m in \u001b[0;36mmcmc\u001b[1;34m(post, nwalkers, nrun, ensembles, checkinterval, minAfactor, maxArchange, burnAfactor, burnGR, maxGR, minTz, minsteps, minpercent, thin, serial, save, savename, proceed, proceedname)\u001b[0m\n\u001b[0;32m    255\u001b[0m \u001b[1;33m\u001b[0m\u001b[0m\n\u001b[0;32m    256\u001b[0m         \u001b[1;31m# check if one or more likelihoods are GPs\u001b[0m\u001b[1;33m\u001b[0m\u001b[1;33m\u001b[0m\u001b[0m\n\u001b[1;32m--> 257\u001b[1;33m         \u001b[1;32mif\u001b[0m \u001b[0misinstance\u001b[0m\u001b[1;33m(\u001b[0m\u001b[0mpost\u001b[0m\u001b[1;33m.\u001b[0m\u001b[0mlikelihood\u001b[0m\u001b[1;33m,\u001b[0m \u001b[0mradvel\u001b[0m\u001b[1;33m.\u001b[0m\u001b[0mlikelihood\u001b[0m\u001b[1;33m.\u001b[0m\u001b[0mCompositeLikelihood\u001b[0m\u001b[1;33m)\u001b[0m\u001b[1;33m:\u001b[0m\u001b[1;33m\u001b[0m\u001b[0m\n\u001b[0m\u001b[0;32m    258\u001b[0m             \u001b[0mcheck_gp\u001b[0m \u001b[1;33m=\u001b[0m \u001b[1;33m[\u001b[0m\u001b[0mlike\u001b[0m \u001b[1;32mfor\u001b[0m \u001b[0mlike\u001b[0m \u001b[1;32min\u001b[0m \u001b[0mpost\u001b[0m\u001b[1;33m.\u001b[0m\u001b[0mlikelihood\u001b[0m\u001b[1;33m.\u001b[0m\u001b[0mlike_list\u001b[0m \u001b[1;32mif\u001b[0m \u001b[0misinstance\u001b[0m\u001b[1;33m(\u001b[0m\u001b[0mlike\u001b[0m\u001b[1;33m,\u001b[0m \u001b[0mradvel\u001b[0m\u001b[1;33m.\u001b[0m\u001b[0mlikelihood\u001b[0m\u001b[1;33m.\u001b[0m\u001b[0mGPLikelihood\u001b[0m\u001b[1;33m)\u001b[0m\u001b[1;33m]\u001b[0m\u001b[1;33m\u001b[0m\u001b[0m\n\u001b[0;32m    259\u001b[0m         \u001b[1;32melse\u001b[0m\u001b[1;33m:\u001b[0m\u001b[1;33m\u001b[0m\u001b[0m\n",
      "\u001b[1;31mAttributeError\u001b[0m: module 'radvel' has no attribute 'likelihood'"
     ]
    }
   ],
   "source": [
    "d = radvel.mcmc(post,nwalkers=20,nrun=400)"
   ]
  },
  {
   "cell_type": "code",
   "execution_count": 49,
   "metadata": {},
   "outputs": [],
   "source": [
    "like.params['e1'].vary = True\n",
    "like.params['e2'].vary = True\n"
   ]
  },
  {
   "cell_type": "code",
   "execution_count": 50,
   "metadata": {},
   "outputs": [
    {
     "name": "stdout",
     "output_type": "stream",
     "text": [
      "parameter                     value      vary\n",
      "per1                          452.8      False\n",
      "tp1                     2.45167e+06      False\n",
      "e1                        0.0912898       True\n",
      "w1                          294.643       True\n",
      "k1                         -97.3022       True\n",
      "per2                            883      False\n",
      "tp2                     2.45219e+06      False\n",
      "e2                         0.293281       True\n",
      "w2                          308.842       True\n",
      "k2                          236.509       True\n",
      "dvdt                        0.13148       True\n",
      "curv                      0.0153231       True\n",
      "gamma                      -406.548      False\n",
      "jit                         60.2782       True\n",
      "\n",
      "Priors\n",
      "------\n",
      "Gaussian prior on jit, mu=1.0986122886681098, sigma=0.5\n",
      "Gaussian prior on k1, mu=5, sigma=10\n",
      "Gaussian prior on k2, mu=5, sigma=10\n",
      "Gaussian prior on gamma, mu=0, sigma=10\n",
      "\n"
     ]
    },
    {
     "data": {
      "image/png": "[encoded data removed]",
      "text/plain": [
       "<Figure size 864x288 with 1 Axes>"
      ]
     },
     "metadata": {
      "needs_background": "light"
     },
     "output_type": "display_data"
    }
   ],
   "source": [
    "\n",
    "res  = optimize.minimize(\n",
    "    post.neglogprob_array, \n",
    "    post.get_vary_params(), \n",
    "    method='Nelder-Mead')\n",
    "\n",
    "plot_results(like)\n",
    "print(post)\n",
    "\n"
   ]
  },
  {
   "cell_type": "code",
   "execution_count": 51,
   "metadata": {},
   "outputs": [
    {
     "ename": "AttributeError",
     "evalue": "module 'radvel' has no attribute 'likelihood'",
     "output_type": "error",
     "traceback": [
      "\u001b[1;31m---------------------------------------------------------------------------\u001b[0m",
      "\u001b[1;31mAttributeError\u001b[0m                            Traceback (most recent call last)",
      "\u001b[1;32m<ipython-input-51-3490a65c62a9>\u001b[0m in \u001b[0;36m<module>\u001b[1;34m\u001b[0m\n\u001b[1;32m----> 1\u001b[1;33m \u001b[0mRVPlot\u001b[0m \u001b[1;33m=\u001b[0m \u001b[0morbit_plots\u001b[0m\u001b[1;33m.\u001b[0m\u001b[0mMultipanelPlot\u001b[0m\u001b[1;33m(\u001b[0m\u001b[0mpost\u001b[0m\u001b[1;33m)\u001b[0m\u001b[1;33m\u001b[0m\u001b[0m\n\u001b[0m\u001b[0;32m      2\u001b[0m \u001b[0mRVPlot\u001b[0m\u001b[1;33m.\u001b[0m\u001b[0mplot_multipanel\u001b[0m\u001b[1;33m(\u001b[0m\u001b[1;33m)\u001b[0m\u001b[1;33m\u001b[0m\u001b[0m\n",
      "\u001b[1;32mc:\\users\\rohan\\appdata\\local\\programs\\python\\python36\\lib\\site-packages\\radvel\\plot\\orbit_plots.py\u001b[0m in \u001b[0;36m__init__\u001b[1;34m(self, post, saveplot, epoch, yscale_auto, yscale_sigma, phase_nrows, phase_ncols, uparams, telfmts, legend, phase_limits, nobin, phasetext_size, rv_phase_space, figwidth, fit_linewidth, set_xlim, text_size, highlight_last, show_rms, legend_kwargs, status)\u001b[0m\n\u001b[0;32m     93\u001b[0m             \u001b[0mself\u001b[0m\u001b[1;33m.\u001b[0m\u001b[0mstatus\u001b[0m \u001b[1;33m=\u001b[0m \u001b[0mstatus\u001b[0m\u001b[1;33m\u001b[0m\u001b[0m\n\u001b[0;32m     94\u001b[0m \u001b[1;33m\u001b[0m\u001b[0m\n\u001b[1;32m---> 95\u001b[1;33m         \u001b[1;32mif\u001b[0m \u001b[0misinstance\u001b[0m\u001b[1;33m(\u001b[0m\u001b[0mself\u001b[0m\u001b[1;33m.\u001b[0m\u001b[0mpost\u001b[0m\u001b[1;33m.\u001b[0m\u001b[0mlikelihood\u001b[0m\u001b[1;33m,\u001b[0m \u001b[0mradvel\u001b[0m\u001b[1;33m.\u001b[0m\u001b[0mlikelihood\u001b[0m\u001b[1;33m.\u001b[0m\u001b[0mCompositeLikelihood\u001b[0m\u001b[1;33m)\u001b[0m\u001b[1;33m:\u001b[0m\u001b[1;33m\u001b[0m\u001b[0m\n\u001b[0m\u001b[0;32m     96\u001b[0m             \u001b[0mself\u001b[0m\u001b[1;33m.\u001b[0m\u001b[0mlike_list\u001b[0m \u001b[1;33m=\u001b[0m \u001b[0mself\u001b[0m\u001b[1;33m.\u001b[0m\u001b[0mpost\u001b[0m\u001b[1;33m.\u001b[0m\u001b[0mlikelihood\u001b[0m\u001b[1;33m.\u001b[0m\u001b[0mlike_list\u001b[0m\u001b[1;33m\u001b[0m\u001b[0m\n\u001b[0;32m     97\u001b[0m         \u001b[1;32melse\u001b[0m\u001b[1;33m:\u001b[0m\u001b[1;33m\u001b[0m\u001b[0m\n",
      "\u001b[1;31mAttributeError\u001b[0m: module 'radvel' has no attribute 'likelihood'"
     ]
    }
   ],
   "source": [
    "RVPlot = orbit_plots.MultipanelPlot(post)\n",
    "RVPlot.plot_multipanel()"
   ]
  },
  {
   "cell_type": "code",
   "execution_count": null,
   "metadata": {},
   "outputs": [],
   "source": []
  }
 ],
 "metadata": {
  "kernelspec": {
   "display_name": "Python 3",
   "language": "python",
   "name": "python3"
  },
  "language_info": {
   "codemirror_mode": {
    "name": "ipython",
    "version": 3
   },
   "file_extension": ".py",
   "mimetype": "text/x-python",
   "name": "python",
   "nbconvert_exporter": "python",
   "pygments_lexer": "ipython3",
   "version": "3.6.2"
  }
 },
 "nbformat": 4,
 "nbformat_minor": 2
}
